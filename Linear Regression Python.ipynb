{
 "cells": [
  {
   "cell_type": "markdown",
   "id": "fed87da8",
   "metadata": {},
   "source": [
    "###### Implement a simple linear regression model on a data set"
   ]
  },
  {
   "cell_type": "code",
   "execution_count": 1,
   "id": "1d8924b8",
   "metadata": {},
   "outputs": [
    {
     "name": "stdout",
     "output_type": "stream",
     "text": [
      "Slope (beta1): 0.6\n",
      "Intercept (beta0): 2.2\n",
      "\n",
      "Predicted y values: [2.8 3.4 4.  4.6 5.2]\n",
      "\n",
      "Mean Squared Error (MSE): 0.47999999999999987\n"
     ]
    }
   ],
   "source": [
    "import numpy as np\n",
    "\n",
    "# Define the dataset (5 data points)\n",
    "X = np.array([1, 2, 3, 4, 5])  # Independent variable\n",
    "y = np.array([2, 4, 5, 4, 5])  # Dependent variable\n",
    "\n",
    "# Calculate the mean of X and y\n",
    "mean_X = np.mean(X)\n",
    "mean_y = np.mean(y)\n",
    "\n",
    "#used ordinary least squares method\n",
    "# Calculate the slope (beta1) and intercept (beta0) of the regression line\n",
    "numerator = np.sum((X - mean_X) * (y - mean_y))\n",
    "denominator = np.sum((X - mean_X) ** 2)\n",
    "beta1 = numerator / denominator\n",
    "beta0 = mean_y - (beta1 * mean_X)\n",
    "\n",
    "# Print the slope and intercept\n",
    "print(\"Slope (beta1):\", beta1)\n",
    "print(\"Intercept (beta0):\", beta0)\n",
    "\n",
    "# Predict the y values using the regression line\n",
    "y_pred = beta0 + beta1 * X\n",
    "\n",
    "# Print the predicted y values\n",
    "print(\"\\nPredicted y values:\", y_pred)\n",
    "\n",
    "# Calculate the mean squared error (MSE)\n",
    "mse = np.mean((y - y_pred) ** 2)\n",
    "print(\"\\nMean Squared Error (MSE):\", mse)\n"
   ]
  },
  {
   "cell_type": "code",
   "execution_count": null,
   "id": "743cb7b6",
   "metadata": {},
   "outputs": [],
   "source": []
  }
 ],
 "metadata": {
  "kernelspec": {
   "display_name": "Python 3 (ipykernel)",
   "language": "python",
   "name": "python3"
  },
  "language_info": {
   "codemirror_mode": {
    "name": "ipython",
    "version": 3
   },
   "file_extension": ".py",
   "mimetype": "text/x-python",
   "name": "python",
   "nbconvert_exporter": "python",
   "pygments_lexer": "ipython3",
   "version": "3.9.13"
  }
 },
 "nbformat": 4,
 "nbformat_minor": 5
}
