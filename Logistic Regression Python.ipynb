{
 "cells": [
  {
   "cell_type": "markdown",
   "id": "8a0e5c98",
   "metadata": {},
   "source": [
    "###### Implement a simple logistic regression model on a data set\n"
   ]
  },
  {
   "cell_type": "code",
   "execution_count": null,
   "id": "970b20e0",
   "metadata": {},
   "outputs": [],
   "source": [
    "import numpy as np\n",
    "\n",
    "# Define the dataset (5 data points)\n",
    "X = np.array([1, 2, 3, 4, 5])  # Independent variable\n",
    "y = np.array([0, 0, 1, 1, 1])  # Dependent variable (binary: 0 or 1)\n",
    "\n",
    "# Sigmoid function (logistic function)\n",
    "def sigmoid(z):\n",
    "    return 1 / (1 + np.exp(-z))\n",
    "\n",
    "# Initialize parameters (weights and bias)\n",
    "theta = np.zeros(2)  # Add one for the bias term\n",
    "theta[0] = -1  # Initialize bias term\n",
    "\n",
    "# Add a column of ones to X for the bias term\n",
    "X_with_bias = np.column_stack((np.ones(X.shape[0]), X))  # Ensure X_with_bias has shape (5, 2)\n",
    "\n",
    "# Gradient descent\n",
    "learning_rate = 0.01\n",
    "num_iterations = 1000\n",
    "\n",
    "for _ in range(num_iterations):\n",
    "    # Calculate the predicted probabilities\n",
    "    z = np.dot(X_with_bias, theta)  # Ensure theta has shape (2,)\n",
    "    h = sigmoid(z)\n",
    "    \n",
    "    # Update parameters using gradient descent\n",
    "    gradient = (1 / X.shape[0]) * np.dot(X_with_bias.T, (h - y))\n",
    "    theta -= learning_rate * gradient\n",
    "\n",
    "# Print the learned parameters (weights and bias)\n",
    "print(\"Learned Parameters:\")\n",
    "print(\"Weights:\", theta[1:])\n",
    "print(\"Bias:\", theta[0])\n",
    "\n",
    "# Predict the class labels\n",
    "predictions = sigmoid(np.dot(X_with_bias, theta))  # Ensure theta has shape (2,)\n",
    "\n",
    "# Print the predicted probabilities\n",
    "print(\"\\nPredicted Probabilities:\")\n",
    "print(predictions)\n",
    "\n",
    "# Convert probabilities to binary predictions (0 or 1)\n",
    "binary_predictions = (predictions >= 0.5).astype(int)\n",
    "\n",
    "# Print the binary predictions\n",
    "print(\"\\nBinary Predictions:\")\n",
    "print(binary_predictions)\n"
   ]
  }
 ],
 "metadata": {
  "kernelspec": {
   "display_name": "Python 3 (ipykernel)",
   "language": "python",
   "name": "python3"
  },
  "language_info": {
   "codemirror_mode": {
    "name": "ipython",
    "version": 3
   },
   "file_extension": ".py",
   "mimetype": "text/x-python",
   "name": "python",
   "nbconvert_exporter": "python",
   "pygments_lexer": "ipython3",
   "version": "3.9.13"
  }
 },
 "nbformat": 4,
 "nbformat_minor": 5
}
